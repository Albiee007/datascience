{
 "cells": [
  {
   "cell_type": "code",
   "execution_count": null,
   "id": "c28df902",
   "metadata": {},
   "outputs": [],
   "source": [
    "import pandas as pd\n",
    "import matplotlib.pyplot as plt"
   ]
  },
  {
   "cell_type": "markdown",
   "id": "57fa0c57",
   "metadata": {},
   "source": [
    "### Read the csv file into a pandas Dataframe"
   ]
  },
  {
   "cell_type": "code",
   "execution_count": null,
   "id": "7fd2bd8d",
   "metadata": {},
   "outputs": [],
   "source": [
    "df = pd.read_csv(C:/Users/ashly/Documents/DataScience/ShareMarket/options-nifty/data/raw-data/nifty-50-hist/1990-2023j-une.csv)"
   ]
  },
  {
   "cell_type": "markdown",
   "id": "a62d685a",
   "metadata": {},
   "source": [
    "### Explore the data by checking the DataFrame structure and basic statistics:"
   ]
  },
  {
   "cell_type": "code",
   "execution_count": null,
   "id": "b3f79208",
   "metadata": {},
   "outputs": [],
   "source": [
    "print(df.head())  # Display the first few rows of the DataFrame\n",
    "print(df.info())  # Get information about the DataFrame\n",
    "print(df.describe())  # Generate summary statistics of the DataFrame"
   ]
  },
  {
   "cell_type": "markdown",
   "id": "404f15cf",
   "metadata": {},
   "source": [
    "### Prepare the data for visualization:"
   ]
  },
  {
   "cell_type": "code",
   "execution_count": null,
   "id": "7b58e136",
   "metadata": {},
   "outputs": [],
   "source": [
    "date = pd.to_datetime(df['Date'])  # Convert the 'Date' column to datetime format\n",
    "open_prices = df['Open']\n",
    "close_prices = df['Close']\n"
   ]
  },
  {
   "cell_type": "markdown",
   "id": "ddddd84b",
   "metadata": {},
   "source": [
    "### Create a line plot to visualize the open and closing prices over time:"
   ]
  },
  {
   "cell_type": "code",
   "execution_count": null,
   "id": "ed6e68eb",
   "metadata": {},
   "outputs": [],
   "source": [
    "plt.figure(figsize=(12, 6))\n",
    "plt.plot(date, open_prices, label='Open Price')\n",
    "plt.plot(date, close_prices, label='Close Price')\n",
    "plt.title('Nifty 50 Open and Close Prices')\n",
    "plt.xlabel('Date')\n",
    "plt.ylabel('Price')\n",
    "plt.legend()\n",
    "plt.show()\n"
   ]
  }
 ],
 "metadata": {
  "kernelspec": {
   "display_name": "Python 3 (ipykernel)",
   "language": "python",
   "name": "python3"
  },
  "language_info": {
   "codemirror_mode": {
    "name": "ipython",
    "version": 3
   },
   "file_extension": ".py",
   "mimetype": "text/x-python",
   "name": "python",
   "nbconvert_exporter": "python",
   "pygments_lexer": "ipython3",
   "version": "3.10.9"
  }
 },
 "nbformat": 4,
 "nbformat_minor": 5
}
